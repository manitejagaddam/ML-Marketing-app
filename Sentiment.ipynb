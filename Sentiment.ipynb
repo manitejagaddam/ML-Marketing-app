{
 "cells": [
  {
   "cell_type": "code",
   "execution_count": 1,
   "id": "bdc9779a",
   "metadata": {},
   "outputs": [],
   "source": [
    "import pandas as pd\n",
    "import numpy as np\n",
    "import seaborn as sns\n",
    "import matplotlib.pyplot as plt"
   ]
  },
  {
   "cell_type": "code",
   "execution_count": 4,
   "id": "79523fd7",
   "metadata": {},
   "outputs": [],
   "source": [
    "df = pd.read_csv('sentiment analysis.csv', encoding = 'latin-1')"
   ]
  },
  {
   "cell_type": "code",
   "execution_count": 8,
   "id": "06fa116b",
   "metadata": {},
   "outputs": [
    {
     "data": {
      "text/html": [
       "<div>\n",
       "<style scoped>\n",
       "    .dataframe tbody tr th:only-of-type {\n",
       "        vertical-align: middle;\n",
       "    }\n",
       "\n",
       "    .dataframe tbody tr th {\n",
       "        vertical-align: top;\n",
       "    }\n",
       "\n",
       "    .dataframe thead th {\n",
       "        text-align: right;\n",
       "    }\n",
       "</style>\n",
       "<table border=\"1\" class=\"dataframe\">\n",
       "  <thead>\n",
       "    <tr style=\"text-align: right;\">\n",
       "      <th></th>\n",
       "      <th>0</th>\n",
       "      <th>1467810369</th>\n",
       "      <th>Mon Apr 06 22:19:45 PDT 2009</th>\n",
       "      <th>NO_QUERY</th>\n",
       "      <th>_TheSpecialOne_</th>\n",
       "      <th>@switchfoot http://twitpic.com/2y1zl - Awww, that's a bummer.  You shoulda got David Carr of Third Day to do it. ;D</th>\n",
       "    </tr>\n",
       "  </thead>\n",
       "  <tbody>\n",
       "    <tr>\n",
       "      <th>0</th>\n",
       "      <td>0</td>\n",
       "      <td>1467810672</td>\n",
       "      <td>Mon Apr 06 22:19:49 PDT 2009</td>\n",
       "      <td>NO_QUERY</td>\n",
       "      <td>scotthamilton</td>\n",
       "      <td>is upset that he can't update his Facebook by ...</td>\n",
       "    </tr>\n",
       "    <tr>\n",
       "      <th>1</th>\n",
       "      <td>0</td>\n",
       "      <td>1467810917</td>\n",
       "      <td>Mon Apr 06 22:19:53 PDT 2009</td>\n",
       "      <td>NO_QUERY</td>\n",
       "      <td>mattycus</td>\n",
       "      <td>@Kenichan I dived many times for the ball. Man...</td>\n",
       "    </tr>\n",
       "    <tr>\n",
       "      <th>2</th>\n",
       "      <td>0</td>\n",
       "      <td>1467811184</td>\n",
       "      <td>Mon Apr 06 22:19:57 PDT 2009</td>\n",
       "      <td>NO_QUERY</td>\n",
       "      <td>ElleCTF</td>\n",
       "      <td>my whole body feels itchy and like its on fire</td>\n",
       "    </tr>\n",
       "    <tr>\n",
       "      <th>3</th>\n",
       "      <td>0</td>\n",
       "      <td>1467811193</td>\n",
       "      <td>Mon Apr 06 22:19:57 PDT 2009</td>\n",
       "      <td>NO_QUERY</td>\n",
       "      <td>Karoli</td>\n",
       "      <td>@nationwideclass no, it's not behaving at all....</td>\n",
       "    </tr>\n",
       "    <tr>\n",
       "      <th>4</th>\n",
       "      <td>0</td>\n",
       "      <td>1467811372</td>\n",
       "      <td>Mon Apr 06 22:20:00 PDT 2009</td>\n",
       "      <td>NO_QUERY</td>\n",
       "      <td>joy_wolf</td>\n",
       "      <td>@Kwesidei not the whole crew</td>\n",
       "    </tr>\n",
       "    <tr>\n",
       "      <th>...</th>\n",
       "      <td>...</td>\n",
       "      <td>...</td>\n",
       "      <td>...</td>\n",
       "      <td>...</td>\n",
       "      <td>...</td>\n",
       "      <td>...</td>\n",
       "    </tr>\n",
       "    <tr>\n",
       "      <th>1048570</th>\n",
       "      <td>4</td>\n",
       "      <td>1960186342</td>\n",
       "      <td>Fri May 29 07:33:44 PDT 2009</td>\n",
       "      <td>NO_QUERY</td>\n",
       "      <td>Madelinedugganx</td>\n",
       "      <td>My GrandMa is making Dinenr with my Mum</td>\n",
       "    </tr>\n",
       "    <tr>\n",
       "      <th>1048571</th>\n",
       "      <td>4</td>\n",
       "      <td>1960186409</td>\n",
       "      <td>Fri May 29 07:33:43 PDT 2009</td>\n",
       "      <td>NO_QUERY</td>\n",
       "      <td>OffRoad_Dude</td>\n",
       "      <td>Mid-morning snack time... A bowl of cheese noo...</td>\n",
       "    </tr>\n",
       "    <tr>\n",
       "      <th>1048572</th>\n",
       "      <td>4</td>\n",
       "      <td>1960186429</td>\n",
       "      <td>Fri May 29 07:33:44 PDT 2009</td>\n",
       "      <td>NO_QUERY</td>\n",
       "      <td>Falchion</td>\n",
       "      <td>@ShaDeLa same here  say it like from the Termi...</td>\n",
       "    </tr>\n",
       "    <tr>\n",
       "      <th>1048573</th>\n",
       "      <td>4</td>\n",
       "      <td>1960186445</td>\n",
       "      <td>Fri May 29 07:33:44 PDT 2009</td>\n",
       "      <td>NO_QUERY</td>\n",
       "      <td>jonasobsessedx</td>\n",
       "      <td>@DestinyHope92 im great thaanks  wbuu?</td>\n",
       "    </tr>\n",
       "    <tr>\n",
       "      <th>1048574</th>\n",
       "      <td>4</td>\n",
       "      <td>1960186607</td>\n",
       "      <td>Fri May 29 07:33:45 PDT 2009</td>\n",
       "      <td>NO_QUERY</td>\n",
       "      <td>sugababez</td>\n",
       "      <td>cant wait til her date this weekend</td>\n",
       "    </tr>\n",
       "  </tbody>\n",
       "</table>\n",
       "<p>1048575 rows × 6 columns</p>\n",
       "</div>"
      ],
      "text/plain": [
       "         0  1467810369  Mon Apr 06 22:19:45 PDT 2009  NO_QUERY  \\\n",
       "0        0  1467810672  Mon Apr 06 22:19:49 PDT 2009  NO_QUERY   \n",
       "1        0  1467810917  Mon Apr 06 22:19:53 PDT 2009  NO_QUERY   \n",
       "2        0  1467811184  Mon Apr 06 22:19:57 PDT 2009  NO_QUERY   \n",
       "3        0  1467811193  Mon Apr 06 22:19:57 PDT 2009  NO_QUERY   \n",
       "4        0  1467811372  Mon Apr 06 22:20:00 PDT 2009  NO_QUERY   \n",
       "...     ..         ...                           ...       ...   \n",
       "1048570  4  1960186342  Fri May 29 07:33:44 PDT 2009  NO_QUERY   \n",
       "1048571  4  1960186409  Fri May 29 07:33:43 PDT 2009  NO_QUERY   \n",
       "1048572  4  1960186429  Fri May 29 07:33:44 PDT 2009  NO_QUERY   \n",
       "1048573  4  1960186445  Fri May 29 07:33:44 PDT 2009  NO_QUERY   \n",
       "1048574  4  1960186607  Fri May 29 07:33:45 PDT 2009  NO_QUERY   \n",
       "\n",
       "         _TheSpecialOne_  \\\n",
       "0          scotthamilton   \n",
       "1               mattycus   \n",
       "2                ElleCTF   \n",
       "3                 Karoli   \n",
       "4               joy_wolf   \n",
       "...                  ...   \n",
       "1048570  Madelinedugganx   \n",
       "1048571     OffRoad_Dude   \n",
       "1048572         Falchion   \n",
       "1048573   jonasobsessedx   \n",
       "1048574        sugababez   \n",
       "\n",
       "        @switchfoot http://twitpic.com/2y1zl - Awww, that's a bummer.  You shoulda got David Carr of Third Day to do it. ;D  \n",
       "0        is upset that he can't update his Facebook by ...                                                                   \n",
       "1        @Kenichan I dived many times for the ball. Man...                                                                   \n",
       "2          my whole body feels itchy and like its on fire                                                                    \n",
       "3        @nationwideclass no, it's not behaving at all....                                                                   \n",
       "4                            @Kwesidei not the whole crew                                                                    \n",
       "...                                                    ...                                                                   \n",
       "1048570           My GrandMa is making Dinenr with my Mum                                                                    \n",
       "1048571  Mid-morning snack time... A bowl of cheese noo...                                                                   \n",
       "1048572  @ShaDeLa same here  say it like from the Termi...                                                                   \n",
       "1048573             @DestinyHope92 im great thaanks  wbuu?                                                                   \n",
       "1048574               cant wait til her date this weekend                                                                    \n",
       "\n",
       "[1048575 rows x 6 columns]"
      ]
     },
     "execution_count": 8,
     "metadata": {},
     "output_type": "execute_result"
    }
   ],
   "source": [
    "df"
   ]
  },
  {
   "cell_type": "code",
   "execution_count": 12,
   "id": "82fca464",
   "metadata": {},
   "outputs": [],
   "source": [
    "columns = ['sentiment','userid', 'time', 'query', 'username', 'text']"
   ]
  },
  {
   "cell_type": "code",
   "execution_count": 13,
   "id": "77d55644",
   "metadata": {},
   "outputs": [],
   "source": [
    "df.columns = columns"
   ]
  },
  {
   "cell_type": "code",
   "execution_count": 14,
   "id": "04ad6a52",
   "metadata": {},
   "outputs": [
    {
     "data": {
      "text/html": [
       "<div>\n",
       "<style scoped>\n",
       "    .dataframe tbody tr th:only-of-type {\n",
       "        vertical-align: middle;\n",
       "    }\n",
       "\n",
       "    .dataframe tbody tr th {\n",
       "        vertical-align: top;\n",
       "    }\n",
       "\n",
       "    .dataframe thead th {\n",
       "        text-align: right;\n",
       "    }\n",
       "</style>\n",
       "<table border=\"1\" class=\"dataframe\">\n",
       "  <thead>\n",
       "    <tr style=\"text-align: right;\">\n",
       "      <th></th>\n",
       "      <th>sentiment</th>\n",
       "      <th>userid</th>\n",
       "      <th>time</th>\n",
       "      <th>query</th>\n",
       "      <th>username</th>\n",
       "      <th>text</th>\n",
       "    </tr>\n",
       "  </thead>\n",
       "  <tbody>\n",
       "    <tr>\n",
       "      <th>421750</th>\n",
       "      <td>0</td>\n",
       "      <td>2062487432</td>\n",
       "      <td>Sat Jun 06 23:22:32 PDT 2009</td>\n",
       "      <td>NO_QUERY</td>\n",
       "      <td>lennlaff17</td>\n",
       "      <td>yesterday was so embarrassing.. i feel pity fo...</td>\n",
       "    </tr>\n",
       "    <tr>\n",
       "      <th>239402</th>\n",
       "      <td>0</td>\n",
       "      <td>1980617671</td>\n",
       "      <td>Sun May 31 07:13:57 PDT 2009</td>\n",
       "      <td>NO_QUERY</td>\n",
       "      <td>Genny_Poo</td>\n",
       "      <td>upset about the cavs...  anyway.... GO LAKERS!</td>\n",
       "    </tr>\n",
       "    <tr>\n",
       "      <th>214402</th>\n",
       "      <td>0</td>\n",
       "      <td>1975229316</td>\n",
       "      <td>Sat May 30 14:43:07 PDT 2009</td>\n",
       "      <td>NO_QUERY</td>\n",
       "      <td>NoteRobot</td>\n",
       "      <td>(@gloomcookie0898) Note to self -don't eat Fib...</td>\n",
       "    </tr>\n",
       "    <tr>\n",
       "      <th>930467</th>\n",
       "      <td>4</td>\n",
       "      <td>1760345389</td>\n",
       "      <td>Sun May 10 21:17:08 PDT 2009</td>\n",
       "      <td>NO_QUERY</td>\n",
       "      <td>runfromlions_</td>\n",
       "      <td>@CHOCOLATEthief aren't they SOO good?  tomorro...</td>\n",
       "    </tr>\n",
       "    <tr>\n",
       "      <th>326194</th>\n",
       "      <td>0</td>\n",
       "      <td>2008050651</td>\n",
       "      <td>Tue Jun 02 13:32:48 PDT 2009</td>\n",
       "      <td>NO_QUERY</td>\n",
       "      <td>GourleyGirl</td>\n",
       "      <td>@Starbucks You discontinued the blended lemona...</td>\n",
       "    </tr>\n",
       "  </tbody>\n",
       "</table>\n",
       "</div>"
      ],
      "text/plain": [
       "        sentiment      userid                          time     query  \\\n",
       "421750          0  2062487432  Sat Jun 06 23:22:32 PDT 2009  NO_QUERY   \n",
       "239402          0  1980617671  Sun May 31 07:13:57 PDT 2009  NO_QUERY   \n",
       "214402          0  1975229316  Sat May 30 14:43:07 PDT 2009  NO_QUERY   \n",
       "930467          4  1760345389  Sun May 10 21:17:08 PDT 2009  NO_QUERY   \n",
       "326194          0  2008050651  Tue Jun 02 13:32:48 PDT 2009  NO_QUERY   \n",
       "\n",
       "             username                                               text  \n",
       "421750     lennlaff17  yesterday was so embarrassing.. i feel pity fo...  \n",
       "239402      Genny_Poo     upset about the cavs...  anyway.... GO LAKERS!  \n",
       "214402      NoteRobot  (@gloomcookie0898) Note to self -don't eat Fib...  \n",
       "930467  runfromlions_  @CHOCOLATEthief aren't they SOO good?  tomorro...  \n",
       "326194    GourleyGirl  @Starbucks You discontinued the blended lemona...  "
      ]
     },
     "execution_count": 14,
     "metadata": {},
     "output_type": "execute_result"
    }
   ],
   "source": [
    "df.sample(5)"
   ]
  },
  {
   "cell_type": "code",
   "execution_count": 16,
   "id": "4214d1e3",
   "metadata": {},
   "outputs": [],
   "source": [
    "df = df.drop(columns = ['userid', 'time', 'query', 'username'])"
   ]
  },
  {
   "cell_type": "code",
   "execution_count": 18,
   "id": "26e35116",
   "metadata": {},
   "outputs": [
    {
     "data": {
      "text/html": [
       "<div>\n",
       "<style scoped>\n",
       "    .dataframe tbody tr th:only-of-type {\n",
       "        vertical-align: middle;\n",
       "    }\n",
       "\n",
       "    .dataframe tbody tr th {\n",
       "        vertical-align: top;\n",
       "    }\n",
       "\n",
       "    .dataframe thead th {\n",
       "        text-align: right;\n",
       "    }\n",
       "</style>\n",
       "<table border=\"1\" class=\"dataframe\">\n",
       "  <thead>\n",
       "    <tr style=\"text-align: right;\">\n",
       "      <th></th>\n",
       "      <th>sentiment</th>\n",
       "      <th>text</th>\n",
       "    </tr>\n",
       "  </thead>\n",
       "  <tbody>\n",
       "    <tr>\n",
       "      <th>714172</th>\n",
       "      <td>0</td>\n",
       "      <td>I told my psychiatrist that everyone hates me....</td>\n",
       "    </tr>\n",
       "    <tr>\n",
       "      <th>166731</th>\n",
       "      <td>0</td>\n",
       "      <td>@sexxieluv I wanna go to a SexxieLuv party tho...</td>\n",
       "    </tr>\n",
       "    <tr>\n",
       "      <th>413256</th>\n",
       "      <td>0</td>\n",
       "      <td>i'm so confussed  i don't know ...what should ...</td>\n",
       "    </tr>\n",
       "    <tr>\n",
       "      <th>82671</th>\n",
       "      <td>0</td>\n",
       "      <td>@hazazulaika ur veryyyyyyy lucky   where are y...</td>\n",
       "    </tr>\n",
       "    <tr>\n",
       "      <th>751556</th>\n",
       "      <td>0</td>\n",
       "      <td>My brain feels like its running out of heap sp...</td>\n",
       "    </tr>\n",
       "  </tbody>\n",
       "</table>\n",
       "</div>"
      ],
      "text/plain": [
       "        sentiment                                               text\n",
       "714172          0  I told my psychiatrist that everyone hates me....\n",
       "166731          0  @sexxieluv I wanna go to a SexxieLuv party tho...\n",
       "413256          0  i'm so confussed  i don't know ...what should ...\n",
       "82671           0  @hazazulaika ur veryyyyyyy lucky   where are y...\n",
       "751556          0  My brain feels like its running out of heap sp..."
      ]
     },
     "execution_count": 18,
     "metadata": {},
     "output_type": "execute_result"
    }
   ],
   "source": [
    "df.sample(5)"
   ]
  },
  {
   "cell_type": "code",
   "execution_count": 19,
   "id": "7bb1a2c3",
   "metadata": {},
   "outputs": [
    {
     "name": "stdout",
     "output_type": "stream",
     "text": [
      "<class 'pandas.core.frame.DataFrame'>\n",
      "RangeIndex: 1048575 entries, 0 to 1048574\n",
      "Data columns (total 2 columns):\n",
      " #   Column     Non-Null Count    Dtype \n",
      "---  ------     --------------    ----- \n",
      " 0   sentiment  1048575 non-null  int64 \n",
      " 1   text       1048575 non-null  object\n",
      "dtypes: int64(1), object(1)\n",
      "memory usage: 16.0+ MB\n"
     ]
    }
   ],
   "source": [
    "df.info()"
   ]
  },
  {
   "cell_type": "code",
   "execution_count": 20,
   "id": "afa8a35f",
   "metadata": {},
   "outputs": [
    {
     "data": {
      "text/plain": [
       "sentiment    0\n",
       "text         0\n",
       "dtype: int64"
      ]
     },
     "execution_count": 20,
     "metadata": {},
     "output_type": "execute_result"
    }
   ],
   "source": [
    "df.isnull().sum()"
   ]
  },
  {
   "cell_type": "code",
   "execution_count": 21,
   "id": "63453595",
   "metadata": {},
   "outputs": [],
   "source": [
    "import nltk\n",
    "import re\n",
    "from nltk.stem import PorterStemmer\n",
    "from nltk.corpus import stopwords"
   ]
  },
  {
   "cell_type": "code",
   "execution_count": 23,
   "id": "5dd6f9b9",
   "metadata": {},
   "outputs": [
    {
     "name": "stderr",
     "output_type": "stream",
     "text": [
      "[nltk_data] Downloading package stopwords to\n",
      "[nltk_data]     C:\\Users\\manit\\AppData\\Roaming\\nltk_data...\n",
      "[nltk_data]   Package stopwords is already up-to-date!\n"
     ]
    },
    {
     "data": {
      "text/plain": [
       "True"
      ]
     },
     "execution_count": 23,
     "metadata": {},
     "output_type": "execute_result"
    }
   ],
   "source": [
    "stemmer = PorterStemmer()\n",
    "nltk.download('stopwords')"
   ]
  },
  {
   "cell_type": "code",
   "execution_count": 27,
   "id": "d8d7f3f4",
   "metadata": {},
   "outputs": [
    {
     "name": "stdout",
     "output_type": "stream",
     "text": [
      "kenichan i dived many times for the ball managed to save 50 the rest go out of bounds\n"
     ]
    }
   ],
   "source": [
    "doc = re.sub('[^a-zA-Z0-9]', ' ', df['text'][1])\n",
    "doc = doc.lower()\n",
    "doc = doc.split()\n",
    "for word in doc:\n",
    "    if word not in set(stopwords.words('english')):\n",
    "        word = stemmer.stem(word)\n",
    "doc = ' '.join(doc)\n",
    "#     corpus_.append(doc)\n",
    "print(doc)"
   ]
  },
  {
   "cell_type": "code",
   "execution_count": 25,
   "id": "31388de1",
   "metadata": {},
   "outputs": [
    {
     "data": {
      "text/plain": [
       "'@Kenichan I dived many times for the ball. Managed to save 50%  The rest go out of bounds'"
      ]
     },
     "execution_count": 25,
     "metadata": {},
     "output_type": "execute_result"
    }
   ],
   "source": [
    "df['text'][1]"
   ]
  },
  {
   "cell_type": "code",
   "execution_count": null,
   "id": "53e3ab29",
   "metadata": {},
   "outputs": [],
   "source": [
    "corpus_ = []\n",
    "for i in range(len(df)):\n",
    "    print(i)\n",
    "    doc = re.sub('[^a-zA-Z]', ' ', df['text'][i])\n",
    "    doc = doc.lower()\n",
    "    doc = doc.split()\n",
    "    for word in doc:\n",
    "        if word not in set(stopwords.words('english')):\n",
    "            word = stemmer.stem(word)\n",
    "    doc = ' '.join(doc)\n",
    "    corpus_.append(doc)"
   ]
  },
  {
   "cell_type": "code",
   "execution_count": 30,
   "id": "bb9fbc7c",
   "metadata": {},
   "outputs": [],
   "source": [
    "def prepocessing(text, stopWords = set(stopwords.words('english')),unique_words_option=True):\n",
    "    text=text.lower()\n",
    "    text=text.translate(str.maketrans('', '', string.punctuation))\n",
    "    text = re.sub(r'\\w*\\d\\w*' , ' ' , text)\n",
    "    text = re.sub(r'[0-9]' , ' ' , text)\n",
    "    text = re.sub(r'[^a-zA-Z0-9\\s]' , ' ' , text)\n",
    "    text = re.sub(r'\\s+' , ' ', text)\n",
    "    text = word_tokenize(text)\n",
    "    text = [i for i in text if i != '']\n",
    "    text = [i for i in text if i not in stopWords]\n",
    "    unique_words= set(text)\n",
    "    unique_words = [word for word in unique_words if len(word) > 3]\n",
    "    return unique_words"
   ]
  },
  {
   "cell_type": "code",
   "execution_count": null,
   "id": "5f1d5329",
   "metadata": {},
   "outputs": [],
   "source": []
  }
 ],
 "metadata": {
  "kernelspec": {
   "display_name": "Python 3 (ipykernel)",
   "language": "python",
   "name": "python3"
  },
  "language_info": {
   "codemirror_mode": {
    "name": "ipython",
    "version": 3
   },
   "file_extension": ".py",
   "mimetype": "text/x-python",
   "name": "python",
   "nbconvert_exporter": "python",
   "pygments_lexer": "ipython3",
   "version": "3.11.5"
  }
 },
 "nbformat": 4,
 "nbformat_minor": 5
}
